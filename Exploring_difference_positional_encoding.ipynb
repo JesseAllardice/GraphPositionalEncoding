{
 "metadata": {
  "language_info": {
   "codemirror_mode": {
    "name": "ipython",
    "version": 3
   },
   "file_extension": ".py",
   "mimetype": "text/x-python",
   "name": "python",
   "nbconvert_exporter": "python",
   "pygments_lexer": "ipython3",
   "version": "3.7.4"
  },
  "orig_nbformat": 2,
  "kernelspec": {
   "name": "python3",
   "display_name": "Python 3.7.4 64-bit ('benchmark_gnn': conda)",
   "metadata": {
    "interpreter": {
     "hash": "1ddd1801e7d98f21a1a7379426d69e5502339db272c615ec89edcf4635860f59"
    }
   }
  }
 },
 "nbformat": 4,
 "nbformat_minor": 2,
 "cells": [
  {
   "cell_type": "code",
   "execution_count": null,
   "metadata": {},
   "outputs": [],
   "source": [
    "# Laplacian Positional Encodings from https://github.com/graphdeeplearning/benchmarking-gnns by Vijay Dwivedi\n",
    "\n",
    "# g is a Graph object of type dgl.DGLGraph\n",
    "# pos_enc_dim is an int\n",
    "\n",
    "\n",
    "def positional_encoding(g, pos_enc_dim):\n",
    "    \"\"\"\n",
    "        Graph positional encoding v/ Laplacian eigenvectors\n",
    "    \"\"\"\n",
    "\n",
    "    # Laplacian\n",
    "    A = g.adjacency_matrix_scipy(return_edge_ids=False).astype(float)\n",
    "    N = sp.diags(dgl.backend.asnumpy(g.in_degrees()).clip(1) ** -0.5, dtype=float)\n",
    "    L = sp.eye(g.number_of_nodes()) - N * A * N\n",
    "\n",
    "    # Eigenvectors with numpy\n",
    "    EigVal, EigVec = np.linalg.eig(L.toarray())\n",
    "    idx = EigVal.argsort() # increasing order\n",
    "    EigVal, EigVec = EigVal[idx], np.real(EigVec[:,idx])\n",
    "    g.ndata['pos_enc'] = torch.from_numpy(EigVec[:,1:pos_enc_dim+1]).float() \n",
    "\n",
    "    # # Eigenvectors with scipy\n",
    "    # EigVal, EigVec = sp.linalg.eigs(L, k=pos_enc_dim+1, which='SR')\n",
    "    # EigVec = EigVec[:, EigVal.argsort()] # increasing order\n",
    "    # g.ndata['pos_enc'] = torch.from_numpy(np.abs(EigVec[:,1:pos_enc_dim+1])).float() \n",
    "    \n",
    "    return g"
   ]
  },
  {
   "cell_type": "code",
   "execution_count": null,
   "metadata": {},
   "outputs": [],
   "source": []
  }
 ]
}